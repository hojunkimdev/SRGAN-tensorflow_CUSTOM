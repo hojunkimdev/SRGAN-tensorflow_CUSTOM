{
 "cells": [
  {
   "cell_type": "code",
   "execution_count": 7,
   "metadata": {},
   "outputs": [],
   "source": [
    "import cv2\n",
    "import numpy as np\n",
    "import os\n",
    "from matplotlib import pyplot as plt"
   ]
  },
  {
   "cell_type": "code",
   "execution_count": 98,
   "metadata": {},
   "outputs": [
    {
     "data": {
      "text/plain": [
       "array([-40, -20,   0,  20,  40], dtype=int8)"
      ]
     },
     "execution_count": 98,
     "metadata": {},
     "output_type": "execute_result"
    }
   ],
   "source": [
    "top_dir = '/home/dl2/Desktop/workspace/khj/SDC/SRGAN-Keras-master/AOI_Trace/Review/PAD_PASS'\n",
    "top1,sub_dirs1,_ = os.walk(top_dir).__next__()\n",
    "cropped_img = np.ones((120,120,3))\n",
    "height = 120\n",
    "h_start = np.ones((5)) * 80\n",
    "h_starts = h_start - (6 - np.arange(5))*20 \n",
    "h_starts = h_starts.astype(np.int8) \n",
    "# h = np.delete(h_start,[2])\n",
    "h_starts\n"
   ]
  },
  {
   "cell_type": "code",
   "execution_count": 99,
   "metadata": {},
   "outputs": [
    {
     "name": "stdout",
     "output_type": "stream",
     "text": [
      "40 _shift_minus_40.png\n",
      "60 _shift_minus_20.png\n",
      "80 .png\n",
      "100 _shift_20.png\n",
      "120 _shift_40.png\n"
     ]
    }
   ],
   "source": [
    "dict_h = {}\n",
    "for step in h_starts:\n",
    "    if step < 0:\n",
    "        dict_h[step+80] = \"_shift_minus_%d.png\"%(-step)\n",
    "    elif step == 0:\n",
    "        dict_h[step+80] = \".png\"\n",
    "    else:\n",
    "        dict_h[step+80] = \"_shift_%d.png\"%(step)\n",
    "# dict_h = {step+80:\"_shift_minus_%d.png\"%(-step) if step<0 else step+80:\"_shift_%d.png\"%(step) for step in h_starts}\n",
    "# del dict_h[80]\n",
    "dict_h\n",
    "for key,val in dict_h.items():\n",
    "    print(key,val)\n",
    "# h"
   ]
  },
  {
   "cell_type": "code",
   "execution_count": 100,
   "metadata": {},
   "outputs": [],
   "source": [
    "for sub_dir1 in sub_dirs1:\n",
    "    top2,sub_dirs2,_ = os.walk(os.path.join(top1,sub_dir1)).__next__()\n",
    "    for sub_dir2 in sub_dirs2:\n",
    "        top3,_,img_list = os.walk(os.path.join(top2,sub_dir2)).__next__()\n",
    "        for img_name in img_list:\n",
    "            img_path = os.path.join(top3,img_name)\n",
    "            original_img = cv2.imread(img_path)\n",
    "            for coord,post_fix in dict_h.items():\n",
    "                top4,img_name = os.path.split(img_path)\n",
    "                new_path = os.path.join(top4,img_name[:-4]+post_fix)\n",
    "                cropped_img = original_img[120:240,coord:coord+height,:]\n",
    "                plt.imshow('mat',cropped_img)\n",
    "                plt.axis('off')\n",
    "                plt.imshow(cropped_img)\n",
    "                plt.show()\n",
    "                print(cropped_img.shape)\n",
    "                cv2.imwrite(new_path,cropped_img)"
   ]
  },
  {
   "cell_type": "code",
   "execution_count": null,
   "metadata": {},
   "outputs": [],
   "source": []
  }
 ],
 "metadata": {
  "kernelspec": {
   "display_name": "Python 3",
   "language": "python",
   "name": "python3"
  },
  "language_info": {
   "codemirror_mode": {
    "name": "ipython",
    "version": 3
   },
   "file_extension": ".py",
   "mimetype": "text/x-python",
   "name": "python",
   "nbconvert_exporter": "python",
   "pygments_lexer": "ipython3",
   "version": "3.6.8"
  }
 },
 "nbformat": 4,
 "nbformat_minor": 2
}
